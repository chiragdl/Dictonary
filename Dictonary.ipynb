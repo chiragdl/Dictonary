{
 "cells": [
  {
   "cell_type": "code",
   "execution_count": 1,
   "id": "ac4f225e",
   "metadata": {},
   "outputs": [],
   "source": [
    "## Use data.json file."
   ]
  },
  {
   "cell_type": "code",
   "execution_count": 1,
   "id": "578babae",
   "metadata": {},
   "outputs": [
    {
     "name": "stdout",
     "output_type": "stream",
     "text": [
      "Enter the word to search..bevrage\n",
      "did u mean beverage insted\n",
      "press y for Yes or n for No: y\n",
      "Any one of various liquids for drinking.\n",
      "Enter y to search in Dictonary..!y\n",
      "Enter the word to search..eyes\n",
      "The two eyes of a human being considered as a whole.\n",
      "Enter y to search in Dictonary..!n\n"
     ]
    }
   ],
   "source": [
    "import json\n",
    "from difflib import get_close_matches\n",
    "x = \"y\"\n",
    "while x == \"y\":\n",
    "    data = json.load(open(\"data.json\"))\n",
    "    def translate(word):\n",
    "        word = word.lower()\n",
    "        if word in data:\n",
    "            return data[word]\n",
    "        elif word.title() in data:\n",
    "            return data[word.title()]\n",
    "        elif word.upper() in data:\n",
    "            return data[word.upper()]\n",
    "        elif len(get_close_matches(word , data.keys()))>0:\n",
    "            print(\"did u mean %s insted\" %get_close_matches(word, data.keys())[0])\n",
    "            decide = input(\"press y for Yes or n for No: \")\n",
    "            if decide == \"y\":\n",
    "                return data[get_close_matches(word, data.keys())[0]]\n",
    "            elif decide == 'n':\n",
    "                return (\"check the word again..!\")\n",
    "            else:\n",
    "                print(\"You have enterd wrong input check again..!\")\n",
    "        else:\n",
    "            print(\"Word is not present in Dictonary..!\")\n",
    "\n",
    "    word = input(\"Enter the word to search..\")\n",
    "    output = translate(word)\n",
    "    if type(output)==list:\n",
    "        for item in output:\n",
    "            print(item)\n",
    "    else:\n",
    "        print(output)\n",
    "       \n",
    "    x = input(\"Enter y to search in Dictonary..!\")"
   ]
  },
  {
   "cell_type": "code",
   "execution_count": null,
   "id": "e1e59c82",
   "metadata": {},
   "outputs": [],
   "source": []
  }
 ],
 "metadata": {
  "kernelspec": {
   "display_name": "Python 3",
   "language": "python",
   "name": "python3"
  },
  "language_info": {
   "codemirror_mode": {
    "name": "ipython",
    "version": 3
   },
   "file_extension": ".py",
   "mimetype": "text/x-python",
   "name": "python",
   "nbconvert_exporter": "python",
   "pygments_lexer": "ipython3",
   "version": "3.8.8"
  }
 },
 "nbformat": 4,
 "nbformat_minor": 5
}
